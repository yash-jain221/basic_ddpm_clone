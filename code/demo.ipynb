{
 "cells": [
  {
   "cell_type": "code",
   "execution_count": 1,
   "metadata": {},
   "outputs": [],
   "source": [
    "# !pip install transformers"
   ]
  },
  {
   "cell_type": "code",
   "execution_count": 3,
   "metadata": {
    "cellView": "form",
    "id": "x_dhQfFYXoPu"
   },
   "outputs": [
    {
     "name": "stderr",
     "output_type": "stream",
     "text": [
      "c:\\Users\\Yash\\Desktop\\Projects\\NN-from-scratch\\nn-env\\Lib\\site-packages\\tqdm\\auto.py:21: TqdmWarning: IProgress not found. Please update jupyter and ipywidgets. See https://ipywidgets.readthedocs.io/en/stable/user_install.html\n",
      "  from .autonotebook import tqdm as notebook_tqdm\n"
     ]
    },
    {
     "name": "stdout",
     "output_type": "stream",
     "text": [
      "Using device: cuda\n"
     ]
    },
    {
     "name": "stderr",
     "output_type": "stream",
     "text": [
      "100%|██████████| 75/75 [07:28<00:00,  5.98s/it]\n"
     ]
    }
   ],
   "source": [
    "import model_loader\n",
    "import pipeline\n",
    "from PIL import Image\n",
    "from pathlib import Path\n",
    "from transformers import CLIPTokenizer\n",
    "import torch\n",
    "import os\n",
    "\n",
    "DEVICE = \"cpu\"\n",
    "\n",
    "ALLOW_CUDA = True\n",
    "ALLOW_MPS = False\n",
    "\n",
    "if torch.cuda.is_available() and ALLOW_CUDA:\n",
    "    DEVICE = \"cuda\"\n",
    "elif (torch.has_mps or torch.backends.mps.is_available()) and ALLOW_MPS:\n",
    "    DEVICE = \"mps\"\n",
    "print(f\"Using device: {DEVICE}\")\n",
    "\n",
    "tokenizer = CLIPTokenizer(\"C:/Users/Yash/Desktop/Projects/stable_diffusion/data/tokenizer_vocab.json\", merges_file=\"C:/Users/Yash/Desktop/Projects/stable_diffusion/data/tokenizer_merges.txt\")\n",
    "model_file = \"C:/Users/Yash/Desktop/Projects/stable_diffusion/data/v1-5-pruned-emaonly.ckpt\"\n",
    "models = model_loader.preload_models_from_standard_weights(model_file, DEVICE)\n",
    "\n",
    "## TEXT TO IMAGE\n",
    "\n",
    "prompt = \"A dog with sunglasses, wearing comfy hat, looking at camera, highly detailed, ultra sharp, cinematic, 100mm lens, 8k resolution.\"\n",
    "# prompt = \"colorful texture like art, highly detailed, ultra sharp, cinematic, 100mm lens, 8k resolution.\"\n",
    "# prompt = \"A modern glass skyscraper of 50 floors, highly detailed, ultra sharp, cinematic, 100mm lens, 8k resolution.\"\n",
    "uncond_prompt = \"\"  # Also known as negative prompt\n",
    "do_cfg = True\n",
    "cfg_scale = 8  # min: 1, max: 14\n",
    "\n",
    "## IMAGE TO IMAGE\n",
    "\n",
    "input_image = None\n",
    "# Comment to disable image to image\n",
    "image_path = \"../images/dog.jpg\"\n",
    "# input_image = Image.open(image_path)\n",
    "# Higher values means more noise will be added to the input image, so the result will further from the input image.\n",
    "# Lower values means less noise is added to the input image, so output will be closer to the input image.\n",
    "strength = 0.7\n",
    "\n",
    "## SAMPLER\n",
    "\n",
    "sampler = \"ddpm\"\n",
    "num_inference_steps = 75\n",
    "seed = 42\n",
    "\n",
    "images = pipeline.generate(\n",
    "    prompt=prompt,\n",
    "    uncond_prompt=uncond_prompt,\n",
    "    input_image=input_image,\n",
    "    strength=strength,\n",
    "    do_cfg=do_cfg,\n",
    "    cfg_scale=cfg_scale,\n",
    "    sampler_name=sampler,\n",
    "    n_inference_steps=num_inference_steps,\n",
    "    seed=seed,\n",
    "    models=models,\n",
    "    device=DEVICE,\n",
    "    idle_device=\"cpu\",\n",
    "    tokenizer=tokenizer\n",
    ")"
   ]
  },
  {
   "cell_type": "code",
   "execution_count": 5,
   "metadata": {},
   "outputs": [],
   "source": [
    "def generate_images(images):\n",
    "    for image in images:\n",
    "        yield image[0]\n",
    "\n",
    "generate_oi = generate_images(images)"
   ]
  },
  {
   "cell_type": "code",
   "execution_count": 2,
   "metadata": {},
   "outputs": [],
   "source": [
    "# next(generate_oi)"
   ]
  },
  {
   "cell_type": "code",
   "execution_count": null,
   "metadata": {},
   "outputs": [
    {
     "name": "stderr",
     "output_type": "stream",
     "text": [
      "2025-04-24 10:35:12.696 WARNING streamlit.runtime.scriptrunner_utils.script_run_context: Thread 'MainThread': missing ScriptRunContext! This warning can be ignored when running in bare mode.\n",
      "2025-04-24 10:35:12.699 WARNING streamlit.runtime.scriptrunner_utils.script_run_context: Thread 'MainThread': missing ScriptRunContext! This warning can be ignored when running in bare mode.\n",
      "2025-04-24 10:35:12.887 \n",
      "  \u001b[33m\u001b[1mWarning:\u001b[0m to view this Streamlit app on a browser, run it with the following\n",
      "  command:\n",
      "\n",
      "    streamlit run c:\\Users\\Yash\\Desktop\\Projects\\NN-from-scratch\\nn-env\\Lib\\site-packages\\ipykernel_launcher.py [ARGUMENTS]\n",
      "2025-04-24 10:35:12.888 Thread 'MainThread': missing ScriptRunContext! This warning can be ignored when running in bare mode.\n",
      "2025-04-24 10:35:12.889 Thread 'MainThread': missing ScriptRunContext! This warning can be ignored when running in bare mode.\n",
      "2025-04-24 10:35:12.890 Thread 'MainThread': missing ScriptRunContext! This warning can be ignored when running in bare mode.\n",
      "2025-04-24 10:35:12.890 Thread 'MainThread': missing ScriptRunContext! This warning can be ignored when running in bare mode.\n",
      "2025-04-24 10:35:12.891 Thread 'MainThread': missing ScriptRunContext! This warning can be ignored when running in bare mode.\n",
      "2025-04-24 10:35:12.892 Thread 'MainThread': missing ScriptRunContext! This warning can be ignored when running in bare mode.\n",
      "2025-04-24 10:35:12.895 Thread 'MainThread': missing ScriptRunContext! This warning can be ignored when running in bare mode.\n",
      "2025-04-24 10:35:12.896 Thread 'MainThread': missing ScriptRunContext! This warning can be ignored when running in bare mode.\n",
      "2025-04-24 10:35:12.896 Thread 'MainThread': missing ScriptRunContext! This warning can be ignored when running in bare mode.\n",
      "2025-04-24 10:35:12.897 Thread 'MainThread': missing ScriptRunContext! This warning can be ignored when running in bare mode.\n",
      "2025-04-24 10:35:12.897 Thread 'MainThread': missing ScriptRunContext! This warning can be ignored when running in bare mode.\n",
      "2025-04-24 10:35:12.898 Thread 'MainThread': missing ScriptRunContext! This warning can be ignored when running in bare mode.\n",
      "2025-04-24 10:35:12.899 Thread 'MainThread': missing ScriptRunContext! This warning can be ignored when running in bare mode.\n",
      "2025-04-24 10:35:12.899 Thread 'MainThread': missing ScriptRunContext! This warning can be ignored when running in bare mode.\n",
      "2025-04-24 10:35:12.900 Thread 'MainThread': missing ScriptRunContext! This warning can be ignored when running in bare mode.\n",
      "2025-04-24 10:35:12.900 Thread 'MainThread': missing ScriptRunContext! This warning can be ignored when running in bare mode.\n",
      "2025-04-24 10:35:12.901 Thread 'MainThread': missing ScriptRunContext! This warning can be ignored when running in bare mode.\n",
      "2025-04-24 10:35:12.901 Thread 'MainThread': missing ScriptRunContext! This warning can be ignored when running in bare mode.\n",
      "2025-04-24 10:35:12.901 Thread 'MainThread': missing ScriptRunContext! This warning can be ignored when running in bare mode.\n",
      "2025-04-24 10:35:12.902 Thread 'MainThread': missing ScriptRunContext! This warning can be ignored when running in bare mode.\n"
     ]
    },
    {
     "ename": "",
     "evalue": "",
     "output_type": "error",
     "traceback": [
      "\u001b[1;31mThe Kernel crashed while executing code in the current cell or a previous cell. \n",
      "\u001b[1;31mPlease review the code in the cell(s) to identify a possible cause of the failure. \n",
      "\u001b[1;31mClick <a href='https://aka.ms/vscodeJupyterKernelCrash'>here</a> for more info. \n",
      "\u001b[1;31mView Jupyter <a href='command:jupyter.viewOutput'>log</a> for further details."
     ]
    }
   ],
   "source": [
    "import streamlit as st\n",
    "import torch\n",
    "from torchvision.utils import make_grid\n",
    "import torchvision.transforms as T\n",
    "import time\n",
    "\n",
    "DEVICE = \"cuda\" if torch.cuda.is_available() else \"cpu\"\n",
    "IMG_SIZE = 64  # or 128\n",
    "\n",
    "st.set_page_config(layout=\"wide\")\n",
    "st.title(\"🌀 DDPM Generative Playground\")\n",
    "\n",
    "# Sidebar controls\n",
    "st.sidebar.header(\"Generation Settings\")\n",
    "steps = st.sidebar.slider(\"Inference Steps\", 20, 200, 75, step=5)\n",
    "seed = st.sidebar.slider(\"Random Seed\", 0, 9999, 42)\n",
    "generate = st.sidebar.button(\"Generate\")\n",
    "\n",
    "output = st.empty() \n",
    "\n",
    "if generate:\n",
    "    # torch.manual_seed(seed)\n",
    "\n",
    "    st.write(\"Generating image...\")\n",
    "    # model = UNet().to(DEVICE)\n",
    "    # model.load_state_dict(torch.load(\"model_weights.pth\", map_location=DEVICE))\n",
    "    \n",
    "    for img_tensor in generate_oi:\n",
    "        grid = make_grid(img_tensor, nrow=1)\n",
    "        pil_img = T.ToPILImage()(grid)\n",
    "        output.image(pil_img, caption=f\"Step image\", use_column_width=True)\n",
    "        time.sleep(0.1)"
   ]
  },
  {
   "cell_type": "code",
   "execution_count": 1,
   "metadata": {},
   "outputs": [
    {
     "name": "stderr",
     "output_type": "stream",
     "text": [
      "c:\\Users\\Yash\\Desktop\\Projects\\NN-from-scratch\\nn-env\\Lib\\site-packages\\tqdm\\auto.py:21: TqdmWarning: IProgress not found. Please update jupyter and ipywidgets. See https://ipywidgets.readthedocs.io/en/stable/user_install.html\n",
      "  from .autonotebook import tqdm as notebook_tqdm\n"
     ]
    },
    {
     "name": "stdout",
     "output_type": "stream",
     "text": [
      "Using device: cuda\n"
     ]
    },
    {
     "name": "stderr",
     "output_type": "stream",
     "text": [
      "100%|██████████| 55/55 [05:22<00:00,  5.86s/it]\n"
     ]
    },
    {
     "name": "stdout",
     "output_type": "stream",
     "text": [
      "Unity texture saved at: C:/Users/Yash/Desktop/textures_unity_ready\\texture_generated_2.png\n"
     ]
    },
    {
     "name": "stderr",
     "output_type": "stream",
     "text": [
      "100%|██████████| 60/60 [06:12<00:00,  6.21s/it]\n"
     ]
    },
    {
     "name": "stdout",
     "output_type": "stream",
     "text": [
      "Unity texture saved at: C:/Users/Yash/Desktop/textures_unity_ready\\texture_generated_3.png\n"
     ]
    },
    {
     "name": "stderr",
     "output_type": "stream",
     "text": [
      "100%|██████████| 65/65 [09:06<00:00,  8.41s/it]\n"
     ]
    },
    {
     "name": "stdout",
     "output_type": "stream",
     "text": [
      "Unity texture saved at: C:/Users/Yash/Desktop/textures_unity_ready\\texture_generated_4.png\n"
     ]
    }
   ],
   "source": [
    "import os\n",
    "from PIL import Image\n",
    "from pathlib import Path\n",
    "from transformers import CLIPTokenizer\n",
    "import torch\n",
    "\n",
    "import model_loader\n",
    "import pipeline\n",
    "\n",
    "# ----------- DEVICE SELECTION ------------\n",
    "DEVICE = \"cpu\"\n",
    "ALLOW_CUDA = True\n",
    "ALLOW_MPS = False\n",
    "\n",
    "if torch.cuda.is_available() and ALLOW_CUDA:\n",
    "    DEVICE = \"cuda\"\n",
    "elif (torch.has_mps or torch.backends.mps.is_available()) and ALLOW_MPS:\n",
    "    DEVICE = \"mps\"\n",
    "print(f\"Using device: {DEVICE}\")\n",
    "\n",
    "# ----------- TOKENIZER AND MODEL LOADING ------------\n",
    "tokenizer = CLIPTokenizer(\n",
    "    \"C:/Users/Yash/Desktop/Projects/stable_diffusion/data/tokenizer_vocab.json\",\n",
    "    merges_file=\"C:/Users/Yash/Desktop/Projects/stable_diffusion/data/tokenizer_merges.txt\"\n",
    ")\n",
    "model_file = \"C:/Users/Yash/Desktop/Projects/stable_diffusion/data/v1-5-pruned-emaonly.ckpt\"\n",
    "models = model_loader.preload_models_from_standard_weights(model_file, DEVICE)\n",
    "\n",
    "# ----------- PROMPT & GENERATION SETTINGS ------------\n",
    "prompt = \"ornamental sci-fi surface texture, glowing filigree, engraved runes, shimmering metal, iridescent hues, high detail, volumetric lighting, cinematic\"\n",
    "uncond_prompt = \"\"\n",
    "do_cfg = True\n",
    "cfg_scale = 8\n",
    "input_image = None\n",
    "strength = 0.5\n",
    "sampler = \"ddpm\"\n",
    "num_inference_steps = 50\n",
    "seed = 42\n",
    "\n",
    "# ----------- IMAGE GENERATION ------------\n",
    "\n",
    "for i in range(2,5):\n",
    "    num_inference_steps+=5\n",
    "    strength+=0.05\n",
    "    output_image = pipeline.generate(\n",
    "        prompt=prompt,\n",
    "        uncond_prompt=uncond_prompt,\n",
    "        input_image=input_image,\n",
    "        strength=strength,\n",
    "        do_cfg=do_cfg,\n",
    "        cfg_scale=cfg_scale,\n",
    "        sampler_name=sampler,\n",
    "        n_inference_steps=num_inference_steps,\n",
    "        seed=seed,\n",
    "        models=models,\n",
    "        device=DEVICE,\n",
    "        idle_device=\"cpu\",\n",
    "        tokenizer=tokenizer\n",
    "    )\n",
    "\n",
    "    # ----------- UNITY EXPORT SETTINGS ------------\n",
    "    output_dir = \"C:/Users/Yash/Desktop/textures_unity_ready\"\n",
    "    target_size = (128, 128)\n",
    "    os.makedirs(output_dir, exist_ok=True)\n",
    "\n",
    "    # Save image\n",
    "    img = Image.fromarray(output_image).convert(\"RGB\")\n",
    "    img = img.resize(target_size, resample=Image.BICUBIC)\n",
    "\n",
    "    # Optional: use timestamp or counter to avoid overwriting\n",
    "    output_path = os.path.join(output_dir, f\"texture_generated_{i}.png\")\n",
    "    img.save(output_path)\n",
    "    print(f\"Unity texture saved at: {output_path}\")\n"
   ]
  },
  {
   "cell_type": "code",
   "execution_count": null,
   "metadata": {},
   "outputs": [
    {
     "name": "stdout",
     "output_type": "stream",
     "text": [
      "12.6\n",
      "NVIDIA GeForce RTX 4060 Laptop GPU\n"
     ]
    }
   ],
   "source": [
    "import torch\n",
    "print(torch.version.cuda)\n",
    "print(torch.cuda.get_device_name(0))"
   ]
  },
  {
   "cell_type": "code",
   "execution_count": null,
   "metadata": {},
   "outputs": [],
   "source": []
  }
 ],
 "metadata": {
  "accelerator": "GPU",
  "colab": {
   "collapsed_sections": [
    "iDI2dKfRWTId"
   ],
   "provenance": []
  },
  "gpuClass": "standard",
  "kernelspec": {
   "display_name": "nn-env",
   "language": "python",
   "name": "python3"
  },
  "language_info": {
   "codemirror_mode": {
    "name": "ipython",
    "version": 3
   },
   "file_extension": ".py",
   "mimetype": "text/x-python",
   "name": "python",
   "nbconvert_exporter": "python",
   "pygments_lexer": "ipython3",
   "version": "3.11.9"
  }
 },
 "nbformat": 4,
 "nbformat_minor": 0
}
