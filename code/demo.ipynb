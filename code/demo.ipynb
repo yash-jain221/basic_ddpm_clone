{
 "cells": [
  {
   "cell_type": "code",
   "execution_count": 1,
   "metadata": {},
   "outputs": [],
   "source": [
    "# !pip install transformers"
   ]
  },
  {
   "cell_type": "code",
   "execution_count": 1,
   "metadata": {
    "cellView": "form",
    "id": "x_dhQfFYXoPu"
   },
   "outputs": [
    {
     "name": "stderr",
     "output_type": "stream",
     "text": [
      "c:\\Users\\Yash\\Desktop\\Projects\\NN-from-scratch\\nn-env\\Lib\\site-packages\\tqdm\\auto.py:21: TqdmWarning: IProgress not found. Please update jupyter and ipywidgets. See https://ipywidgets.readthedocs.io/en/stable/user_install.html\n",
      "  from .autonotebook import tqdm as notebook_tqdm\n"
     ]
    },
    {
     "name": "stdout",
     "output_type": "stream",
     "text": [
      "Using device: cuda\n"
     ]
    },
    {
     "ename": "RuntimeError",
     "evalue": "Error(s) in loading state_dict for VAE_Encoder:\n\tMissing key(s) in state_dict: \"1.conv1.weight\", \"1.conv1.bias\", \"1.conv2.weight\", \"1.conv2.bias\", \"2.conv1.weight\", \"2.conv1.bias\", \"2.conv2.weight\", \"2.conv2.bias\", \"4.conv1.weight\", \"4.conv1.bias\", \"4.conv2.weight\", \"4.conv2.bias\", \"5.conv1.weight\", \"5.conv1.bias\", \"5.conv2.weight\", \"5.conv2.bias\", \"7.conv1.weight\", \"7.conv1.bias\", \"7.conv2.weight\", \"7.conv2.bias\", \"8.conv1.weight\", \"8.conv1.bias\", \"8.conv2.weight\", \"8.conv2.bias\", \"10.conv1.weight\", \"10.conv1.bias\", \"10.conv2.weight\", \"10.conv2.bias\", \"11.conv1.weight\", \"11.conv1.bias\", \"11.conv2.weight\", \"11.conv2.bias\", \"12.conv1.weight\", \"12.conv1.bias\", \"12.conv2.weight\", \"12.conv2.bias\", \"14.conv1.weight\", \"14.conv1.bias\", \"14.conv2.weight\", \"14.conv2.bias\". \n\tUnexpected key(s) in state_dict: \"1.conv_1.weight\", \"1.conv_1.bias\", \"1.conv_2.weight\", \"1.conv_2.bias\", \"2.conv_1.weight\", \"2.conv_1.bias\", \"2.conv_2.weight\", \"2.conv_2.bias\", \"4.conv_1.weight\", \"4.conv_1.bias\", \"4.conv_2.weight\", \"4.conv_2.bias\", \"5.conv_1.weight\", \"5.conv_1.bias\", \"5.conv_2.weight\", \"5.conv_2.bias\", \"7.conv_1.weight\", \"7.conv_1.bias\", \"7.conv_2.weight\", \"7.conv_2.bias\", \"8.conv_1.weight\", \"8.conv_1.bias\", \"8.conv_2.weight\", \"8.conv_2.bias\", \"10.conv_1.weight\", \"10.conv_1.bias\", \"10.conv_2.weight\", \"10.conv_2.bias\", \"11.conv_1.weight\", \"11.conv_1.bias\", \"11.conv_2.weight\", \"11.conv_2.bias\", \"12.conv_1.weight\", \"12.conv_1.bias\", \"12.conv_2.weight\", \"12.conv_2.bias\", \"13.attention.out_proj.bias\", \"13.attention.in_proj.weight\", \"13.attention.in_proj.bias\", \"13.attention.out_proj.weight\", \"14.conv_1.weight\", \"14.conv_1.bias\", \"14.conv_2.weight\", \"14.conv_2.bias\". ",
     "output_type": "error",
     "traceback": [
      "\u001b[1;31m---------------------------------------------------------------------------\u001b[0m",
      "\u001b[1;31mRuntimeError\u001b[0m                              Traceback (most recent call last)",
      "Cell \u001b[1;32mIn[1], line 22\u001b[0m\n\u001b[0;32m     20\u001b[0m tokenizer \u001b[38;5;241m=\u001b[39m CLIPTokenizer(os\u001b[38;5;241m.\u001b[39mgetcwd() \u001b[38;5;241m+\u001b[39m \u001b[38;5;124m\"\u001b[39m\u001b[38;5;124m/data/tokenizer_vocab.json\u001b[39m\u001b[38;5;124m\"\u001b[39m, merges_file\u001b[38;5;241m=\u001b[39mos\u001b[38;5;241m.\u001b[39mgetcwd() \u001b[38;5;241m+\u001b[39m \u001b[38;5;124m\"\u001b[39m\u001b[38;5;124m/data/tokenizer_merges.txt\u001b[39m\u001b[38;5;124m\"\u001b[39m)\n\u001b[0;32m     21\u001b[0m model_file \u001b[38;5;241m=\u001b[39m os\u001b[38;5;241m.\u001b[39mgetcwd() \u001b[38;5;241m+\u001b[39m \u001b[38;5;124m\"\u001b[39m\u001b[38;5;124m/data/v1-5-pruned-emaonly.ckpt\u001b[39m\u001b[38;5;124m\"\u001b[39m\n\u001b[1;32m---> 22\u001b[0m models \u001b[38;5;241m=\u001b[39m \u001b[43mmodel_loader\u001b[49m\u001b[38;5;241;43m.\u001b[39;49m\u001b[43mpreload_models_from_standard_weights\u001b[49m\u001b[43m(\u001b[49m\u001b[43mmodel_file\u001b[49m\u001b[43m,\u001b[49m\u001b[43m \u001b[49m\u001b[43mDEVICE\u001b[49m\u001b[43m)\u001b[49m\n\u001b[0;32m     24\u001b[0m \u001b[38;5;66;03m## TEXT TO IMAGE\u001b[39;00m\n\u001b[0;32m     25\u001b[0m \n\u001b[0;32m     26\u001b[0m \u001b[38;5;66;03m# prompt = \"A dog with sunglasses, wearing comfy hat, looking at camera, highly detailed, ultra sharp, cinematic, 100mm lens, 8k resolution.\"\u001b[39;00m\n\u001b[0;32m     27\u001b[0m \u001b[38;5;66;03m# prompt = \"A cat stretching on the floor, highly detailed, ultra sharp, cinematic, 100mm lens, 8k resolution.\"\u001b[39;00m\n\u001b[0;32m     28\u001b[0m prompt \u001b[38;5;241m=\u001b[39m \u001b[38;5;124m\"\u001b[39m\u001b[38;5;124mA modern glass skyscraper of 50 floors, highly detailed, ultra sharp, cinematic, 100mm lens, 8k resolution.\u001b[39m\u001b[38;5;124m\"\u001b[39m\n",
      "File \u001b[1;32mc:\\Users\\Yash\\Desktop\\Projects\\NN-from-scratch\\umar_jamil_series\\stable_diffusion\\model_loader.py:12\u001b[0m, in \u001b[0;36mpreload_models_from_standard_weights\u001b[1;34m(ckpt_path, device)\u001b[0m\n\u001b[0;32m      9\u001b[0m state_dict \u001b[38;5;241m=\u001b[39m model_converter\u001b[38;5;241m.\u001b[39mload_from_standard_weights(ckpt_path, device)\n\u001b[0;32m     11\u001b[0m encoder \u001b[38;5;241m=\u001b[39m VAE_Encoder()\u001b[38;5;241m.\u001b[39mto(device)\n\u001b[1;32m---> 12\u001b[0m \u001b[43mencoder\u001b[49m\u001b[38;5;241;43m.\u001b[39;49m\u001b[43mload_state_dict\u001b[49m\u001b[43m(\u001b[49m\u001b[43mstate_dict\u001b[49m\u001b[43m[\u001b[49m\u001b[38;5;124;43m'\u001b[39;49m\u001b[38;5;124;43mencoder\u001b[39;49m\u001b[38;5;124;43m'\u001b[39;49m\u001b[43m]\u001b[49m\u001b[43m,\u001b[49m\u001b[43m \u001b[49m\u001b[43mstrict\u001b[49m\u001b[38;5;241;43m=\u001b[39;49m\u001b[38;5;28;43;01mTrue\u001b[39;49;00m\u001b[43m)\u001b[49m\n\u001b[0;32m     14\u001b[0m decoder \u001b[38;5;241m=\u001b[39m VAE_Decoder()\u001b[38;5;241m.\u001b[39mto(device)\n\u001b[0;32m     15\u001b[0m decoder\u001b[38;5;241m.\u001b[39mload_state_dict(state_dict[\u001b[38;5;124m'\u001b[39m\u001b[38;5;124mdecoder\u001b[39m\u001b[38;5;124m'\u001b[39m], strict\u001b[38;5;241m=\u001b[39m\u001b[38;5;28;01mTrue\u001b[39;00m)\n",
      "File \u001b[1;32mc:\\Users\\Yash\\Desktop\\Projects\\NN-from-scratch\\nn-env\\Lib\\site-packages\\torch\\nn\\modules\\module.py:2581\u001b[0m, in \u001b[0;36mModule.load_state_dict\u001b[1;34m(self, state_dict, strict, assign)\u001b[0m\n\u001b[0;32m   2573\u001b[0m         error_msgs\u001b[38;5;241m.\u001b[39minsert(\n\u001b[0;32m   2574\u001b[0m             \u001b[38;5;241m0\u001b[39m,\n\u001b[0;32m   2575\u001b[0m             \u001b[38;5;124m\"\u001b[39m\u001b[38;5;124mMissing key(s) in state_dict: \u001b[39m\u001b[38;5;132;01m{}\u001b[39;00m\u001b[38;5;124m. \u001b[39m\u001b[38;5;124m\"\u001b[39m\u001b[38;5;241m.\u001b[39mformat(\n\u001b[0;32m   2576\u001b[0m                 \u001b[38;5;124m\"\u001b[39m\u001b[38;5;124m, \u001b[39m\u001b[38;5;124m\"\u001b[39m\u001b[38;5;241m.\u001b[39mjoin(\u001b[38;5;124mf\u001b[39m\u001b[38;5;124m'\u001b[39m\u001b[38;5;124m\"\u001b[39m\u001b[38;5;132;01m{\u001b[39;00mk\u001b[38;5;132;01m}\u001b[39;00m\u001b[38;5;124m\"\u001b[39m\u001b[38;5;124m'\u001b[39m \u001b[38;5;28;01mfor\u001b[39;00m k \u001b[38;5;129;01min\u001b[39;00m missing_keys)\n\u001b[0;32m   2577\u001b[0m             ),\n\u001b[0;32m   2578\u001b[0m         )\n\u001b[0;32m   2580\u001b[0m \u001b[38;5;28;01mif\u001b[39;00m \u001b[38;5;28mlen\u001b[39m(error_msgs) \u001b[38;5;241m>\u001b[39m \u001b[38;5;241m0\u001b[39m:\n\u001b[1;32m-> 2581\u001b[0m     \u001b[38;5;28;01mraise\u001b[39;00m \u001b[38;5;167;01mRuntimeError\u001b[39;00m(\n\u001b[0;32m   2582\u001b[0m         \u001b[38;5;124m\"\u001b[39m\u001b[38;5;124mError(s) in loading state_dict for \u001b[39m\u001b[38;5;132;01m{}\u001b[39;00m\u001b[38;5;124m:\u001b[39m\u001b[38;5;130;01m\\n\u001b[39;00m\u001b[38;5;130;01m\\t\u001b[39;00m\u001b[38;5;132;01m{}\u001b[39;00m\u001b[38;5;124m\"\u001b[39m\u001b[38;5;241m.\u001b[39mformat(\n\u001b[0;32m   2583\u001b[0m             \u001b[38;5;28mself\u001b[39m\u001b[38;5;241m.\u001b[39m\u001b[38;5;18m__class__\u001b[39m\u001b[38;5;241m.\u001b[39m\u001b[38;5;18m__name__\u001b[39m, \u001b[38;5;124m\"\u001b[39m\u001b[38;5;130;01m\\n\u001b[39;00m\u001b[38;5;130;01m\\t\u001b[39;00m\u001b[38;5;124m\"\u001b[39m\u001b[38;5;241m.\u001b[39mjoin(error_msgs)\n\u001b[0;32m   2584\u001b[0m         )\n\u001b[0;32m   2585\u001b[0m     )\n\u001b[0;32m   2586\u001b[0m \u001b[38;5;28;01mreturn\u001b[39;00m _IncompatibleKeys(missing_keys, unexpected_keys)\n",
      "\u001b[1;31mRuntimeError\u001b[0m: Error(s) in loading state_dict for VAE_Encoder:\n\tMissing key(s) in state_dict: \"1.conv1.weight\", \"1.conv1.bias\", \"1.conv2.weight\", \"1.conv2.bias\", \"2.conv1.weight\", \"2.conv1.bias\", \"2.conv2.weight\", \"2.conv2.bias\", \"4.conv1.weight\", \"4.conv1.bias\", \"4.conv2.weight\", \"4.conv2.bias\", \"5.conv1.weight\", \"5.conv1.bias\", \"5.conv2.weight\", \"5.conv2.bias\", \"7.conv1.weight\", \"7.conv1.bias\", \"7.conv2.weight\", \"7.conv2.bias\", \"8.conv1.weight\", \"8.conv1.bias\", \"8.conv2.weight\", \"8.conv2.bias\", \"10.conv1.weight\", \"10.conv1.bias\", \"10.conv2.weight\", \"10.conv2.bias\", \"11.conv1.weight\", \"11.conv1.bias\", \"11.conv2.weight\", \"11.conv2.bias\", \"12.conv1.weight\", \"12.conv1.bias\", \"12.conv2.weight\", \"12.conv2.bias\", \"14.conv1.weight\", \"14.conv1.bias\", \"14.conv2.weight\", \"14.conv2.bias\". \n\tUnexpected key(s) in state_dict: \"1.conv_1.weight\", \"1.conv_1.bias\", \"1.conv_2.weight\", \"1.conv_2.bias\", \"2.conv_1.weight\", \"2.conv_1.bias\", \"2.conv_2.weight\", \"2.conv_2.bias\", \"4.conv_1.weight\", \"4.conv_1.bias\", \"4.conv_2.weight\", \"4.conv_2.bias\", \"5.conv_1.weight\", \"5.conv_1.bias\", \"5.conv_2.weight\", \"5.conv_2.bias\", \"7.conv_1.weight\", \"7.conv_1.bias\", \"7.conv_2.weight\", \"7.conv_2.bias\", \"8.conv_1.weight\", \"8.conv_1.bias\", \"8.conv_2.weight\", \"8.conv_2.bias\", \"10.conv_1.weight\", \"10.conv_1.bias\", \"10.conv_2.weight\", \"10.conv_2.bias\", \"11.conv_1.weight\", \"11.conv_1.bias\", \"11.conv_2.weight\", \"11.conv_2.bias\", \"12.conv_1.weight\", \"12.conv_1.bias\", \"12.conv_2.weight\", \"12.conv_2.bias\", \"13.attention.out_proj.bias\", \"13.attention.in_proj.weight\", \"13.attention.in_proj.bias\", \"13.attention.out_proj.weight\", \"14.conv_1.weight\", \"14.conv_1.bias\", \"14.conv_2.weight\", \"14.conv_2.bias\". "
     ]
    }
   ],
   "source": [
    "import model_loader\n",
    "import pipeline\n",
    "from PIL import Image\n",
    "from pathlib import Path\n",
    "from transformers import CLIPTokenizer\n",
    "import torch\n",
    "import os\n",
    "\n",
    "DEVICE = \"cpu\"\n",
    "\n",
    "ALLOW_CUDA = True\n",
    "ALLOW_MPS = False\n",
    "\n",
    "if torch.cuda.is_available() and ALLOW_CUDA:\n",
    "    DEVICE = \"cuda\"\n",
    "elif (torch.has_mps or torch.backends.mps.is_available()) and ALLOW_MPS:\n",
    "    DEVICE = \"mps\"\n",
    "print(f\"Using device: {DEVICE}\")\n",
    "\n",
    "tokenizer = CLIPTokenizer(os.getcwd() + \"/data/tokenizer_vocab.json\", merges_file=os.getcwd() + \"/data/tokenizer_merges.txt\")\n",
    "model_file = os.getcwd() + \"/data/v1-5-pruned-emaonly.ckpt\"\n",
    "models = model_loader.preload_models_from_standard_weights(model_file, DEVICE)\n",
    "\n",
    "## TEXT TO IMAGE\n",
    "\n",
    "# prompt = \"A dog with sunglasses, wearing comfy hat, looking at camera, highly detailed, ultra sharp, cinematic, 100mm lens, 8k resolution.\"\n",
    "# prompt = \"A cat stretching on the floor, highly detailed, ultra sharp, cinematic, 100mm lens, 8k resolution.\"\n",
    "prompt = \"A modern glass skyscraper of 50 floors, highly detailed, ultra sharp, cinematic, 100mm lens, 8k resolution.\"\n",
    "uncond_prompt = \"\"  # Also known as negative prompt\n",
    "do_cfg = True\n",
    "cfg_scale = 8  # min: 1, max: 14\n",
    "\n",
    "## IMAGE TO IMAGE\n",
    "\n",
    "input_image = None\n",
    "# Comment to disable image to image\n",
    "image_path = \"../images/dog.jpg\"\n",
    "# input_image = Image.open(image_path)\n",
    "# Higher values means more noise will be added to the input image, so the result will further from the input image.\n",
    "# Lower values means less noise is added to the input image, so output will be closer to the input image.\n",
    "strength = 0.9\n",
    "\n",
    "## SAMPLER\n",
    "\n",
    "sampler = \"ddpm\"\n",
    "num_inference_steps = 50\n",
    "seed = 42\n",
    "\n",
    "output_image = pipeline.generate(\n",
    "    prompt=prompt,\n",
    "    uncond_prompt=uncond_prompt,\n",
    "    input_image=input_image,\n",
    "    strength=strength,\n",
    "    do_cfg=do_cfg,\n",
    "    cfg_scale=cfg_scale,\n",
    "    sampler_name=sampler,\n",
    "    n_inference_steps=num_inference_steps,\n",
    "    seed=seed,\n",
    "    models=models,\n",
    "    device=DEVICE,\n",
    "    idle_device=\"cpu\",\n",
    "    tokenizer=tokenizer,\n",
    ")\n",
    "\n",
    "# Combine the input image and the output image into a single image.\n",
    "Image.fromarray(output_image)"
   ]
  },
  {
   "cell_type": "code",
   "execution_count": null,
   "metadata": {},
   "outputs": [],
   "source": []
  }
 ],
 "metadata": {
  "accelerator": "GPU",
  "colab": {
   "collapsed_sections": [
    "iDI2dKfRWTId"
   ],
   "provenance": []
  },
  "gpuClass": "standard",
  "kernelspec": {
   "display_name": "nn-env",
   "language": "python",
   "name": "python3"
  },
  "language_info": {
   "codemirror_mode": {
    "name": "ipython",
    "version": 3
   },
   "file_extension": ".py",
   "mimetype": "text/x-python",
   "name": "python",
   "nbconvert_exporter": "python",
   "pygments_lexer": "ipython3",
   "version": "3.11.9"
  }
 },
 "nbformat": 4,
 "nbformat_minor": 0
}
